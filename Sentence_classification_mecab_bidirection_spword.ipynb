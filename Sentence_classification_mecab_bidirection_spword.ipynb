{
 "cells": [
  {
   "cell_type": "markdown",
   "metadata": {},
   "source": [
    "# Sentence classification by MorphConv\n",
    "Implementation of [Convolutional Neural Networks for Sentence Classification](https://arxiv.org/abs/1408.5882) to classify sentiment of movie review\n",
    "\n",
    "### Explanation of this notebook\n",
    "* Dataset : [Naver sentiment movie corpus v1.0](https://github.com/e9t/nsmc)\n",
    "    + train, validation : splitting `ratings_train.txt` (150k reviews) for train (120k reviews) and validation (30k reviews)\n",
    "    + test : `ratings_test.txt` (50k reviews)\n",
    "* Preprocessing\n",
    "    + Morphological analysis by Mecab wrapped by [konlpy](http://konlpy.org/en/latest/)"
   ]
  },
  {
   "cell_type": "markdown",
   "metadata": {},
   "source": [
    "### Setup"
   ]
  },
  {
   "cell_type": "code",
   "execution_count": 1,
   "metadata": {},
   "outputs": [
    {
     "name": "stderr",
     "output_type": "stream",
     "text": [
      "Using TensorFlow backend.\n"
     ]
    }
   ],
   "source": [
    "import os\n",
    "import sys\n",
    "\n",
    "import numpy as np\n",
    "np.random.seed(7)\n",
    "import pandas as pd\n",
    "\n",
    "from collections import Counter \n",
    "\n",
    "import keras\n",
    "from keras.preprocessing.sequence import pad_sequences\n",
    "from keras.layers import (Input, Embedding, Conv1D, AveragePooling1D, \n",
    "                          concatenate, Bidirectional, GRU, Dense)\n",
    "from keras.models import Model, load_model\n",
    "from keras.callbacks import ModelCheckpoint, EarlyStopping\n",
    "\n",
    "from sklearn.model_selection import train_test_split\n",
    "from sklearn.metrics import f1_score\n",
    "\n",
    "from konlpy.tag import Mecab\n",
    "import re\n",
    "\n",
    "from matplotlib import pyplot as plt\n",
    "from tqdm import tqdm_notebook as tqdm"
   ]
  },
  {
   "cell_type": "markdown",
   "metadata": {},
   "source": [
    "### Loading dataset"
   ]
  },
  {
   "cell_type": "code",
   "execution_count": 5,
   "metadata": {
    "scrolled": true
   },
   "outputs": [
    {
     "name": "stdout",
     "output_type": "stream",
     "text": [
      "5 3\n",
      "0 0\n"
     ]
    }
   ],
   "source": [
    "ratings_train = pd.read_csv('data/ratings_train.txt', sep = '\\t')[['document', 'label']]\n",
    "ratings_test = pd.read_csv('data/ratings_test.txt', sep = '\\t')[['document', 'label']]\n",
    "\n",
    "# ratings, ratings_tst의 document column에 nan 값이 있으므로 이를 빈 문자열로 대체\n",
    "print(sum(ratings_train.document.isna()), sum(ratings_test.document.isna()))\n",
    "\n",
    "ratings_train.document[ratings_train.document.isna()] = ''\n",
    "ratings_test.document[ratings_test.document.isna()] = ''\n",
    "\n",
    "print(sum(ratings_train.document.isna()), sum(ratings_test.document.isna()))"
   ]
  },
  {
   "cell_type": "markdown",
   "metadata": {},
   "source": [
    "### Use mecab for preprocessing"
   ]
  },
  {
   "cell_type": "code",
   "execution_count": 87,
   "metadata": {},
   "outputs": [],
   "source": [
    "def make_morphs(text):\n",
    "    cleaned_text = re.sub('[^a-z|A-Z|가-힣|0-9|\\,|\\.|\\!|\\?]', ' ', text)\n",
    "    cleaned_text = re.sub('(\\!|\\?){2,}', '\\g<1>', cleaned_text)\n",
    "    cleaned_text = cleaned_text.strip()\n",
    "    base_words = mecab.morphs(cleaned_text)\n",
    "    base_words = [word for word in base_words if '.' != word and ',' not in word]\n",
    "    base_words = [word if '..' not in word else '...' for word in base_words]\n",
    "    base_words = [word if word != '!' else '!!' for word in base_words]\n",
    "    base_words = [word if word != '?' else '??' for word in base_words]\n",
    "\n",
    "    \n",
    "    sp_text = re.sub('[^ㅎㅎ|^^|ㅡㅡ|\\-\\-|~|;|♥|♡|★|ㅠ|ㅜ|ㅋ|ㅎ|ㅇ|ㅂ|ㅅ|ㅊ|ㅈ|ㄷ|ㄴ|ㅌ]', \n",
    "                     ' ', text)\n",
    "    \n",
    "    sp_text = re.sub('(ㅡ.ㅡ|-.-)', ' ㅡㅡ ', sp_text)\n",
    "    sp_text = re.sub('(-|ㅡ){2,}', ' ㅡㅡ ', sp_text)\n",
    "    sp_text = re.sub('(ㅋ|ㅎ|ㅇ|ㅂ|ㅅ|ㅊ|ㅈ|ㄷ|ㄴ|ㅌ){2,}', ' \\g<1>\\g<1> ', sp_text)\n",
    "    sp_text = re.sub('(♥|♡)+', ' ♥♥ ', sp_text)\n",
    "    sp_text = re.sub('(★|;|~)+', ' \\g<1>\\g<1> ', sp_text)\n",
    "    sp_text = re.sub('\\^+', ' ^^ ', sp_text)\n",
    "    sp_text = re.sub('[ㅠ|ㅜ]+', ' ㅠㅠ ', sp_text)\n",
    "    sp_text = re.sub('\\s+', ' ', sp_text)\n",
    "    sp_text = sp_text.strip()\n",
    "    \n",
    "    sp_words = sp_text.split(' ')\n",
    "    sp_words = [word for word in sp_words if 'ㅡ' != word]\n",
    "    \n",
    "    result_text = base_words + sp_words if not '' in sp_words else base_words\n",
    "    if not result_text:\n",
    "        return ''\n",
    "    \n",
    "#     result_word = [word for word in result_word if len(word) > 1]\n",
    "    result_words = '+'.join(result_text)\n",
    "    return result_words"
   ]
  },
  {
   "cell_type": "code",
   "execution_count": 88,
   "metadata": {},
   "outputs": [],
   "source": [
    "mecab = Mecab()"
   ]
  },
  {
   "cell_type": "code",
   "execution_count": 89,
   "metadata": {},
   "outputs": [
    {
     "name": "stdout",
     "output_type": "stream",
     "text": [
      "Make train morphs......\n",
      "Make test morphs......\n",
      "CPU times: user 31 s, sys: 151 ms, total: 31.2 s\n",
      "Wall time: 31.6 s\n"
     ]
    }
   ],
   "source": [
    "%%time\n",
    "# train\n",
    "print('Make train morphs......')\n",
    "ratings_train['morphs'] = ratings_train['document'].apply(make_morphs)\n",
    "\n",
    "# test\n",
    "print('Make test morphs......')\n",
    "ratings_test['morphs'] = ratings_test['document'].apply(make_morphs)"
   ]
  },
  {
   "cell_type": "code",
   "execution_count": 90,
   "metadata": {},
   "outputs": [],
   "source": [
    "ratings_train.to_csv('data/ratings_train_mecab_spword.txt', sep='\\t', index=False)\n",
    "ratings_test.to_csv('data/ratings_test_mecab_spword.txt', sep='\\t', index=False)"
   ]
  },
  {
   "cell_type": "markdown",
   "metadata": {},
   "source": [
    "### Reload data"
   ]
  },
  {
   "cell_type": "code",
   "execution_count": 2,
   "metadata": {},
   "outputs": [
    {
     "name": "stdout",
     "output_type": "stream",
     "text": [
      "167 56\n",
      "0 0\n"
     ]
    }
   ],
   "source": [
    "ratings = pd.read_csv('data/ratings_train_mecab_spword.txt', sep = '\\t')[['morphs', 'label']]\n",
    "ratings_test = pd.read_csv('data/ratings_test_mecab_spword.txt', sep = '\\t')[['morphs', 'label']]\n",
    "\n",
    "# ratings, ratings_tst의 document column에 nan 값이 있으므로 이를 빈 문자열로 대체\n",
    "print(sum(ratings.morphs.isna()), sum(ratings_test.morphs.isna()))\n",
    "\n",
    "ratings.morphs[ratings.morphs.isna()] = ''\n",
    "ratings_test.morphs[ratings_test.morphs.isna()] = ''\n",
    "\n",
    "print(sum(ratings.morphs.isna()), sum(ratings_test.morphs.isna()))"
   ]
  },
  {
   "cell_type": "markdown",
   "metadata": {},
   "source": [
    "### Preprocessing dataset"
   ]
  },
  {
   "cell_type": "markdown",
   "metadata": {},
   "source": [
    "##### Find best random seed trought rasidual and varience"
   ]
  },
  {
   "cell_type": "code",
   "execution_count": 93,
   "metadata": {
    "scrolled": true
   },
   "outputs": [
    {
     "name": "stdout",
     "output_type": "stream",
     "text": [
      "Find best seed......\n"
     ]
    },
    {
     "data": {
      "application/vnd.jupyter.widget-view+json": {
       "model_id": "8c58f3664a0b4b9da4c8a190b2a77c18",
       "version_major": 2,
       "version_minor": 0
      },
      "text/plain": [
       "HBox(children=(IntProgress(value=0, max=10000), HTML(value='')))"
      ]
     },
     "metadata": {},
     "output_type": "display_data"
    },
    {
     "name": "stdout",
     "output_type": "stream",
     "text": [
      "seed: 0\n",
      "280028\n",
      "73093.95535086525 72788.64036922259\n",
      "seed: 4\n",
      "279283\n",
      "72659.20509965229 74530.59328873192\n",
      "seed: 8\n",
      "277420\n",
      "72949.85140907383 73359.04609988058\n",
      "seed: 108\n",
      "276936\n",
      "73050.30235850641 72953.05609298393\n",
      "seed: 128\n",
      "276021\n",
      "73141.69375567777 72588.56850242332\n",
      "seed: 267\n",
      "275940\n",
      "73197.65236750114 72370.5584639531\n",
      "seed: 1069\n",
      "275647\n",
      "73067.3642571775 72884.91745579352\n",
      "seed: 1395\n",
      "275052\n",
      "73194.207448039 72384.66283194325\n",
      "seed: 4843\n",
      "274889\n",
      "73004.69947935347 73136.23770602426\n",
      "seed: 5107\n",
      "274502\n",
      "73130.34417974179 72631.76975883021\n"
     ]
    }
   ],
   "source": [
    "# print('Find best seed......')\n",
    "\n",
    "# min_seed = 0\n",
    "# min_residual = 100000000\n",
    "# for i in tqdm(range(10000)):\n",
    "#     x_data = ratings.morphs.apply(split_word).tolist()\n",
    "#     y_data = ratings.label.tolist()\n",
    "\n",
    "#     x_train_word, x_val_word, y_train, y_val = train_test_split(x_data, y_data,\n",
    "#                                                                 test_size=0.2,\n",
    "#                                                                 random_state=i,\n",
    "#                                                                 stratify=y_data)\n",
    "#     # print(len(y_train), sum(y_train), len(y_val), sum(y_val))\n",
    "\n",
    "#     word_table = list(set([word for words in x_data for word in words]))\n",
    "#     word_table = {word:0 for word in word_table}\n",
    "\n",
    "#     train_counter = nlp.data.count_tokens(itertools.chain.from_iterable([c for c in x_train_word]))\n",
    "#     train_table = word_table.copy()\n",
    "#     train_table.update(train_counter)\n",
    "\n",
    "#     val_counter = nlp.data.count_tokens(itertools.chain.from_iterable([c for c in x_val_word]))\n",
    "#     val_table = word_table.copy()\n",
    "#     val_table.update(val_counter)\n",
    "\n",
    "#     train_cnt = np.array(list(train_table.values()))\n",
    "#     val_cnt = np.array(list(val_table.values())) * 4\n",
    "    \n",
    "#     residual = np.abs(train_cnt-val_cnt).sum()\n",
    "#     if residual < min_residual:\n",
    "#         min_residual = residual\n",
    "#         min_seed = i\n",
    "#         print('seed:', i)\n",
    "#         print(min_residual)\n",
    "#         print(np.var(train_cnt), np.var(val_cnt))"
   ]
  },
  {
   "cell_type": "markdown",
   "metadata": {},
   "source": [
    "### Make training data "
   ]
  },
  {
   "cell_type": "code",
   "execution_count": 3,
   "metadata": {},
   "outputs": [],
   "source": [
    "def split_word(text):\n",
    "#     return text.split('+')\n",
    "    return [word for word in text.split('+')]"
   ]
  },
  {
   "cell_type": "code",
   "execution_count": 4,
   "metadata": {
    "scrolled": true
   },
   "outputs": [
    {
     "name": "stdout",
     "output_type": "stream",
     "text": [
      "Make train, val data......\n"
     ]
    }
   ],
   "source": [
    "print('Make train, val data......')\n",
    "\n",
    "x_data = ratings.morphs.apply(split_word).tolist()\n",
    "y_data = ratings.label.tolist()\n",
    "\n",
    "x_train_word, x_val_word, y_train, y_val = train_test_split(x_data, y_data,\n",
    "                                                            test_size=0.2,\n",
    "                                                            random_state=349,\n",
    "                                                            stratify=y_data)\n",
    "\n",
    "y_train = np.asarray(y_train)\n",
    "y_val = np.asarray(y_val)"
   ]
  },
  {
   "cell_type": "code",
   "execution_count": 5,
   "metadata": {},
   "outputs": [],
   "source": [
    "keywords = x_data"
   ]
  },
  {
   "cell_type": "code",
   "execution_count": 6,
   "metadata": {},
   "outputs": [
    {
     "data": {
      "text/plain": [
       "(13.0, 150000)"
      ]
     },
     "execution_count": 6,
     "metadata": {},
     "output_type": "execute_result"
    }
   ],
   "source": [
    "np.median([len(k) for k in keywords]), len(keywords)"
   ]
  },
  {
   "cell_type": "code",
   "execution_count": 7,
   "metadata": {},
   "outputs": [],
   "source": [
    "keyword_cnt = Counter([i for item in keywords for i in item])"
   ]
  },
  {
   "cell_type": "code",
   "execution_count": 8,
   "metadata": {},
   "outputs": [],
   "source": [
    "# keyword_clip_dict = dict(keyword_clip)\n",
    "keyword_clip_dict = {key:value for key, value in keyword_cnt.items() if value >= 3}\n",
    "keyword_dict = dict(zip(keyword_clip_dict.keys(), range(len(keyword_clip_dict))))"
   ]
  },
  {
   "cell_type": "code",
   "execution_count": 9,
   "metadata": {},
   "outputs": [],
   "source": [
    "#공백과 미학습 단어 처리를 위한 사전 정보 추가\n",
    "keyword_dict['_PAD_'] = len(keyword_dict)\n",
    "keyword_dict['_UNK_'] = len(keyword_dict)"
   ]
  },
  {
   "cell_type": "code",
   "execution_count": 10,
   "metadata": {},
   "outputs": [],
   "source": [
    "#리뷰 시퀀스 단어수의 중앙값 +10를 max 리뷰 시퀀스로 정함... \n",
    "# max_seq = np.median([len(k) for k in keywords]) + 10\n",
    "max_seq = 20"
   ]
  },
  {
   "cell_type": "code",
   "execution_count": 11,
   "metadata": {},
   "outputs": [],
   "source": [
    "def encoding_and_padding(corp_list, dic, max_seq=50):\n",
    "    from keras.preprocessing.sequence import pad_sequences\n",
    "    coding_seq = [ [dic.get(j, dic['_UNK_']) for j in i]  for i in corp_list ]\n",
    "    #일반적으로 리뷰는 마지막 부분에 많은 정보를 포함할 가능성이 많아 패딩은 앞에 준다. \n",
    "    return(pad_sequences(coding_seq, maxlen=max_seq, padding='pre', truncating='pre',value=dic['_PAD_']))"
   ]
  },
  {
   "cell_type": "code",
   "execution_count": 12,
   "metadata": {},
   "outputs": [],
   "source": [
    "x_train = encoding_and_padding(x_train_word, keyword_dict, max_seq=int(max_seq))\n",
    "x_val = encoding_and_padding(x_val_word, keyword_dict, max_seq=int(max_seq))"
   ]
  },
  {
   "cell_type": "code",
   "execution_count": 13,
   "metadata": {},
   "outputs": [
    {
     "data": {
      "text/plain": [
       "((120000, 20), (120000,), (30000, 20), (30000,))"
      ]
     },
     "execution_count": 13,
     "metadata": {},
     "output_type": "execute_result"
    }
   ],
   "source": [
    "x_train.shape, y_train.shape, x_val.shape, y_val.shape"
   ]
  },
  {
   "cell_type": "markdown",
   "metadata": {},
   "source": [
    "### Define MorphConv class"
   ]
  },
  {
   "cell_type": "code",
   "execution_count": 53,
   "metadata": {},
   "outputs": [
    {
     "name": "stdout",
     "output_type": "stream",
     "text": [
      "__________________________________________________________________________________________________\n",
      "Layer (type)                    Output Shape         Param #     Connected to                     \n",
      "==================================================================================================\n",
      "input (InputLayer)              (None, 20)           0                                            \n",
      "__________________________________________________________________________________________________\n",
      "embedding (Embedding)           (None, 20, 50)       1108400     input[0][0]                      \n",
      "__________________________________________________________________________________________________\n",
      "conv1d_10 (Conv1D)              (None, 20, 32)       1632        embedding[0][0]                  \n",
      "__________________________________________________________________________________________________\n",
      "conv1d_11 (Conv1D)              (None, 20, 16)       1616        embedding[0][0]                  \n",
      "__________________________________________________________________________________________________\n",
      "conv1d_12 (Conv1D)              (None, 20, 8)        1208        embedding[0][0]                  \n",
      "__________________________________________________________________________________________________\n",
      "average_pooling1d_10 (AveragePo (None, 10, 32)       0           conv1d_10[0][0]                  \n",
      "__________________________________________________________________________________________________\n",
      "average_pooling1d_11 (AveragePo (None, 10, 16)       0           conv1d_11[0][0]                  \n",
      "__________________________________________________________________________________________________\n",
      "average_pooling1d_12 (AveragePo (None, 10, 8)        0           conv1d_12[0][0]                  \n",
      "__________________________________________________________________________________________________\n",
      "concatenate_4 (Concatenate)     (None, 10, 56)       0           average_pooling1d_10[0][0]       \n",
      "                                                                 average_pooling1d_11[0][0]       \n",
      "                                                                 average_pooling1d_12[0][0]       \n",
      "__________________________________________________________________________________________________\n",
      "bidirectional_4 (Bidirectional) (None, 20)           4020        concatenate_4[0][0]              \n",
      "__________________________________________________________________________________________________\n",
      "dense_4 (Dense)                 (None, 1)            21          bidirectional_4[0][0]            \n",
      "==================================================================================================\n",
      "Total params: 1,116,897\n",
      "Trainable params: 1,116,897\n",
      "Non-trainable params: 0\n",
      "__________________________________________________________________________________________________\n"
     ]
    }
   ],
   "source": [
    "inputs = Input(shape=(x_train.shape[1],), name='input')\n",
    "embeddings_out = Embedding(input_dim=len(keyword_dict), \n",
    "                           output_dim=50,\n",
    "                           name='embedding')(inputs)\n",
    "\n",
    "conv0 = Conv1D(32, 1, padding='same')(embeddings_out)\n",
    "conv1 = Conv1D(16, 2, padding='same')(embeddings_out)\n",
    "conv2 = Conv1D(8, 3, padding='same')(embeddings_out)\n",
    "\n",
    "pool0 = AveragePooling1D()(conv0)\n",
    "pool1 = AveragePooling1D()(conv1)\n",
    "pool2 = AveragePooling1D()(conv2)\n",
    "\n",
    "concat_layer = concatenate([pool0, pool1, pool2],axis=2)\n",
    "\n",
    "bidir = Bidirectional(GRU(10, recurrent_dropout=0.2, dropout=0.2))(concat_layer)\n",
    "\n",
    "out = Dense(1,activation='sigmoid')(bidir)\n",
    "\n",
    "model = Model(inputs=[inputs,], outputs=out)\n",
    "\n",
    "model.summary()"
   ]
  },
  {
   "cell_type": "markdown",
   "metadata": {},
   "source": [
    "### Training"
   ]
  },
  {
   "cell_type": "code",
   "execution_count": 54,
   "metadata": {},
   "outputs": [],
   "source": [
    "# hyper-parameter\n",
    "lr = 0.0003\n",
    "epochs = 30 # 30\n",
    "batch_size = 10000"
   ]
  },
  {
   "cell_type": "code",
   "execution_count": 55,
   "metadata": {},
   "outputs": [],
   "source": [
    "model.compile(loss='binary_crossentropy', \n",
    "              optimizer=keras.optimizers.Adam(lr=lr),\n",
    "              metrics=['accuracy'])\n",
    "\n",
    "# model.compile(loss='binary_crossentropy', \n",
    "#               optimizer=keras.optimizers.SGD(lr=0.01, momentum=0.9, decay=1e-6, nesterov=True),\n",
    "#               metrics=['accuracy'])"
   ]
  },
  {
   "cell_type": "code",
   "execution_count": 56,
   "metadata": {},
   "outputs": [],
   "source": [
    "model_path = 'checkpoint/'\n",
    "os.makedirs(model_path, exist_ok=True)\n",
    "model_filename = model_path+'{epoch:02d}-{val_loss:.4f}.hdf5'\n",
    "checkpointer = ModelCheckpoint(filepath = model_filename, monitor = \"val_acc\", verbose=1, save_best_only=True)\n",
    "\n",
    "# early_stopping = EarlyStopping(monitor='val_loss', patience=100)"
   ]
  },
  {
   "cell_type": "code",
   "execution_count": 57,
   "metadata": {
    "scrolled": true
   },
   "outputs": [
    {
     "name": "stdout",
     "output_type": "stream",
     "text": [
      "Train on 120000 samples, validate on 30000 samples\n",
      "Epoch 1/30\n",
      "120000/120000 [==============================] - 4s 37us/step - loss: 0.6919 - acc: 0.5466 - val_loss: 0.6901 - val_acc: 0.6285\n",
      "\n",
      "Epoch 00001: val_acc improved from -inf to 0.62853, saving model to checkpoint/01-0.6901.hdf5\n",
      "Epoch 2/30\n",
      "120000/120000 [==============================] - 1s 6us/step - loss: 0.6881 - acc: 0.6450 - val_loss: 0.6856 - val_acc: 0.6962\n",
      "\n",
      "Epoch 00002: val_acc improved from 0.62853 to 0.69620, saving model to checkpoint/02-0.6856.hdf5\n",
      "Epoch 3/30\n",
      "120000/120000 [==============================] - 1s 6us/step - loss: 0.6821 - acc: 0.7065 - val_loss: 0.6780 - val_acc: 0.7234\n",
      "\n",
      "Epoch 00003: val_acc improved from 0.69620 to 0.72343, saving model to checkpoint/03-0.6780.hdf5\n",
      "Epoch 4/30\n",
      "120000/120000 [==============================] - 1s 6us/step - loss: 0.6721 - acc: 0.7321 - val_loss: 0.6657 - val_acc: 0.7394\n",
      "\n",
      "Epoch 00004: val_acc improved from 0.72343 to 0.73937, saving model to checkpoint/04-0.6657.hdf5\n",
      "Epoch 5/30\n",
      "120000/120000 [==============================] - 1s 6us/step - loss: 0.6566 - acc: 0.7494 - val_loss: 0.6470 - val_acc: 0.7500\n",
      "\n",
      "Epoch 00005: val_acc improved from 0.73937 to 0.75003, saving model to checkpoint/05-0.6470.hdf5\n",
      "Epoch 6/30\n",
      "120000/120000 [==============================] - 1s 6us/step - loss: 0.6335 - acc: 0.7586 - val_loss: 0.6207 - val_acc: 0.7585\n",
      "\n",
      "Epoch 00006: val_acc improved from 0.75003 to 0.75847, saving model to checkpoint/06-0.6207.hdf5\n",
      "Epoch 7/30\n",
      "120000/120000 [==============================] - 1s 6us/step - loss: 0.6032 - acc: 0.7711 - val_loss: 0.5878 - val_acc: 0.7690\n",
      "\n",
      "Epoch 00007: val_acc improved from 0.75847 to 0.76900, saving model to checkpoint/07-0.5878.hdf5\n",
      "Epoch 8/30\n",
      "120000/120000 [==============================] - 1s 6us/step - loss: 0.5673 - acc: 0.7799 - val_loss: 0.5516 - val_acc: 0.7789\n",
      "\n",
      "Epoch 00008: val_acc improved from 0.76900 to 0.77887, saving model to checkpoint/08-0.5516.hdf5\n",
      "Epoch 9/30\n",
      "120000/120000 [==============================] - 1s 6us/step - loss: 0.5300 - acc: 0.7902 - val_loss: 0.5167 - val_acc: 0.7888\n",
      "\n",
      "Epoch 00009: val_acc improved from 0.77887 to 0.78880, saving model to checkpoint/09-0.5167.hdf5\n",
      "Epoch 10/30\n",
      "120000/120000 [==============================] - 1s 6us/step - loss: 0.4949 - acc: 0.8006 - val_loss: 0.4856 - val_acc: 0.7986\n",
      "\n",
      "Epoch 00010: val_acc improved from 0.78880 to 0.79857, saving model to checkpoint/10-0.4856.hdf5\n",
      "Epoch 11/30\n",
      "120000/120000 [==============================] - 1s 6us/step - loss: 0.4636 - acc: 0.8117 - val_loss: 0.4593 - val_acc: 0.8084\n",
      "\n",
      "Epoch 00011: val_acc improved from 0.79857 to 0.80840, saving model to checkpoint/11-0.4593.hdf5\n",
      "Epoch 12/30\n",
      "120000/120000 [==============================] - 1s 7us/step - loss: 0.4364 - acc: 0.8231 - val_loss: 0.4372 - val_acc: 0.8167\n",
      "\n",
      "Epoch 00012: val_acc improved from 0.80840 to 0.81670, saving model to checkpoint/12-0.4372.hdf5\n",
      "Epoch 13/30\n",
      "120000/120000 [==============================] - 1s 6us/step - loss: 0.4127 - acc: 0.8329 - val_loss: 0.4190 - val_acc: 0.8248\n",
      "\n",
      "Epoch 00013: val_acc improved from 0.81670 to 0.82477, saving model to checkpoint/13-0.4190.hdf5\n",
      "Epoch 14/30\n",
      "120000/120000 [==============================] - 1s 6us/step - loss: 0.3921 - acc: 0.8417 - val_loss: 0.4038 - val_acc: 0.8300\n",
      "\n",
      "Epoch 00014: val_acc improved from 0.82477 to 0.83000, saving model to checkpoint/14-0.4038.hdf5\n",
      "Epoch 15/30\n",
      "120000/120000 [==============================] - 1s 6us/step - loss: 0.3745 - acc: 0.8499 - val_loss: 0.3916 - val_acc: 0.8356\n",
      "\n",
      "Epoch 00015: val_acc improved from 0.83000 to 0.83557, saving model to checkpoint/15-0.3916.hdf5\n",
      "Epoch 16/30\n",
      "120000/120000 [==============================] - 1s 6us/step - loss: 0.3593 - acc: 0.8552 - val_loss: 0.3820 - val_acc: 0.8382\n",
      "\n",
      "Epoch 00016: val_acc improved from 0.83557 to 0.83817, saving model to checkpoint/16-0.3820.hdf5\n",
      "Epoch 17/30\n",
      "120000/120000 [==============================] - 1s 6us/step - loss: 0.3458 - acc: 0.8610 - val_loss: 0.3745 - val_acc: 0.8410\n",
      "\n",
      "Epoch 00017: val_acc improved from 0.83817 to 0.84103, saving model to checkpoint/17-0.3745.hdf5\n",
      "Epoch 18/30\n",
      "120000/120000 [==============================] - 1s 6us/step - loss: 0.3347 - acc: 0.8655 - val_loss: 0.3691 - val_acc: 0.8434\n",
      "\n",
      "Epoch 00018: val_acc improved from 0.84103 to 0.84343, saving model to checkpoint/18-0.3691.hdf5\n",
      "Epoch 19/30\n",
      "120000/120000 [==============================] - 1s 6us/step - loss: 0.3254 - acc: 0.8695 - val_loss: 0.3651 - val_acc: 0.8446\n",
      "\n",
      "Epoch 00019: val_acc improved from 0.84343 to 0.84463, saving model to checkpoint/19-0.3651.hdf5\n",
      "Epoch 20/30\n",
      "120000/120000 [==============================] - 1s 6us/step - loss: 0.3173 - acc: 0.8733 - val_loss: 0.3628 - val_acc: 0.8450\n",
      "\n",
      "Epoch 00020: val_acc improved from 0.84463 to 0.84497, saving model to checkpoint/20-0.3628.hdf5\n",
      "Epoch 21/30\n",
      "120000/120000 [==============================] - 1s 6us/step - loss: 0.3100 - acc: 0.8754 - val_loss: 0.3610 - val_acc: 0.8449\n",
      "\n",
      "Epoch 00021: val_acc did not improve from 0.84497\n",
      "Epoch 22/30\n",
      "120000/120000 [==============================] - 1s 6us/step - loss: 0.3040 - acc: 0.8783 - val_loss: 0.3604 - val_acc: 0.8451\n",
      "\n",
      "Epoch 00022: val_acc improved from 0.84497 to 0.84513, saving model to checkpoint/22-0.3604.hdf5\n",
      "Epoch 23/30\n",
      "120000/120000 [==============================] - 1s 6us/step - loss: 0.2985 - acc: 0.8810 - val_loss: 0.3607 - val_acc: 0.8447\n",
      "\n",
      "Epoch 00023: val_acc did not improve from 0.84513\n",
      "Epoch 24/30\n",
      "120000/120000 [==============================] - 1s 6us/step - loss: 0.2941 - acc: 0.8825 - val_loss: 0.3611 - val_acc: 0.8446\n",
      "\n",
      "Epoch 00024: val_acc did not improve from 0.84513\n",
      "Epoch 25/30\n",
      "120000/120000 [==============================] - 1s 6us/step - loss: 0.2905 - acc: 0.8848 - val_loss: 0.3618 - val_acc: 0.8447\n",
      "\n",
      "Epoch 00025: val_acc did not improve from 0.84513\n",
      "Epoch 26/30\n",
      "120000/120000 [==============================] - 1s 6us/step - loss: 0.2861 - acc: 0.8861 - val_loss: 0.3629 - val_acc: 0.8448\n",
      "\n",
      "Epoch 00026: val_acc did not improve from 0.84513\n",
      "Epoch 27/30\n",
      "120000/120000 [==============================] - 1s 6us/step - loss: 0.2828 - acc: 0.8880 - val_loss: 0.3643 - val_acc: 0.8440\n",
      "\n",
      "Epoch 00027: val_acc did not improve from 0.84513\n",
      "Epoch 28/30\n",
      "120000/120000 [==============================] - 1s 6us/step - loss: 0.2803 - acc: 0.8901 - val_loss: 0.3662 - val_acc: 0.8439\n",
      "\n",
      "Epoch 00028: val_acc did not improve from 0.84513\n",
      "Epoch 29/30\n",
      "120000/120000 [==============================] - 1s 6us/step - loss: 0.2773 - acc: 0.8911 - val_loss: 0.3674 - val_acc: 0.8439\n",
      "\n",
      "Epoch 00029: val_acc did not improve from 0.84513\n",
      "Epoch 30/30\n",
      "120000/120000 [==============================] - 1s 6us/step - loss: 0.2739 - acc: 0.8926 - val_loss: 0.3694 - val_acc: 0.8435\n",
      "\n",
      "Epoch 00030: val_acc did not improve from 0.84513\n"
     ]
    }
   ],
   "source": [
    "hist = model.fit( x=x_train, y=y_train, \n",
    "                  batch_size=batch_size, epochs=epochs, \n",
    "                  validation_data=[x_val, y_val],\n",
    "                  shuffle=True, callbacks = [checkpointer] )\n",
    "#                  shuffle=True, callbacks = [checkpointer, early_stopping] )"
   ]
  },
  {
   "cell_type": "code",
   "execution_count": 58,
   "metadata": {},
   "outputs": [
    {
     "data": {
      "image/png": "[encoded data removed]",
      "text/plain": [
       "<Figure size 432x288 with 1 Axes>"
      ]
     },
     "metadata": {},
     "output_type": "display_data"
    }
   ],
   "source": [
    "plt.plot(hist.history['loss'])\n",
    "plt.plot(hist.history['val_loss'])\n",
    "plt.title('model loss')\n",
    "plt.ylabel('loss')\n",
    "plt.xlabel('epoch')\n",
    "plt.legend(['train', 'valid'], loc='upper left')\n",
    "plt.show()"
   ]
  },
  {
   "cell_type": "markdown",
   "metadata": {},
   "source": [
    "### Test"
   ]
  },
  {
   "cell_type": "code",
   "execution_count": 48,
   "metadata": {},
   "outputs": [
    {
     "name": "stdout",
     "output_type": "stream",
     "text": [
      "Make test data......\n"
     ]
    }
   ],
   "source": [
    "# Make test data\n",
    "print('Make test data......')\n",
    "x_test_word = ratings_test.morphs.apply(split_word).tolist()\n",
    "x_test = encoding_and_padding(x_test_word, keyword_dict, max_seq=int(max_seq))\n",
    "y_test = np.asarray(ratings_test.label.tolist())"
   ]
  },
  {
   "cell_type": "code",
   "execution_count": 49,
   "metadata": {},
   "outputs": [
    {
     "data": {
      "text/plain": [
       "((50000, 20), (50000,))"
      ]
     },
     "execution_count": 49,
     "metadata": {},
     "output_type": "execute_result"
    }
   ],
   "source": [
    "x_test.shape, y_test.shape"
   ]
  },
  {
   "cell_type": "code",
   "execution_count": 63,
   "metadata": {},
   "outputs": [],
   "source": [
    "model_path = 'checkpoint/'\n",
    "model = load_model(model_path+'22-0.3604.hdf5')"
   ]
  },
  {
   "cell_type": "code",
   "execution_count": 64,
   "metadata": {
    "scrolled": true
   },
   "outputs": [
    {
     "name": "stdout",
     "output_type": "stream",
     "text": [
      "50000/50000 [==============================] - 14s 284us/step\n",
      "Loss: 0.36765167089939116 Accuracy: 0.8436\n"
     ]
    }
   ],
   "source": [
    "# prob = model.predict(x_test)\n",
    "\n",
    "[loss, accuracy] = model.evaluate(x_test, y_test)\n",
    "print('Loss:', loss, 'Accuracy:', accuracy)"
   ]
  },
  {
   "cell_type": "code",
   "execution_count": 65,
   "metadata": {},
   "outputs": [
    {
     "name": "stdout",
     "output_type": "stream",
     "text": [
      "F1 Score: 0.8436\n"
     ]
    }
   ],
   "source": [
    "pred = model.predict(x_test)\n",
    "test_f1_score = f1_score(y_test, pred > 0.5)\n",
    "print('F1 Score:', test_f1_score)"
   ]
  },
  {
   "cell_type": "code",
   "execution_count": null,
   "metadata": {},
   "outputs": [],
   "source": []
  }
 ],
 "metadata": {
  "kernelspec": {
   "display_name": "Python 3",
   "language": "python",
   "name": "python3"
  },
  "language_info": {
   "codemirror_mode": {
    "name": "ipython",
    "version": 3
   },
   "file_extension": ".py",
   "mimetype": "text/x-python",
   "name": "python",
   "nbconvert_exporter": "python",
   "pygments_lexer": "ipython3",
   "version": "3.5.2"
  }
 },
 "nbformat": 4,
 "nbformat_minor": 2
}
