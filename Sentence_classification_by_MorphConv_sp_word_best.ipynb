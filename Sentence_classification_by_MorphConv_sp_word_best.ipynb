{
 "cells": [
  {
   "cell_type": "markdown",
   "metadata": {},
   "source": [
    "# Sentence classification by MorphConv\n",
    "Implementation of [Convolutional Neural Networks for Sentence Classification](https://arxiv.org/abs/1408.5882) to classify sentiment of movie review\n",
    "\n",
    "### Explanation of this notebook\n",
    "* Dataset : [Naver sentiment movie corpus v1.0](https://github.com/e9t/nsmc)\n",
    "    + train, validation : splitting `ratings_train.txt` (150k reviews) for train (120k reviews) and validation (30k reviews)\n",
    "    + test : `ratings_test.txt` (50k reviews)\n",
    "* Preprocessing\n",
    "    + Morphological analysis by Mecab wrapped by [konlpy](http://konlpy.org/en/latest/)\n",
    "    + Using [FastText](https://arxiv.org/abs/1607.04606) embedding by [gluonnlp package](https://gluon-nlp.mxnet.io/)"
   ]
  },
  {
   "cell_type": "markdown",
   "metadata": {},
   "source": [
    "### Setup"
   ]
  },
  {
   "cell_type": "code",
   "execution_count": 1,
   "metadata": {},
   "outputs": [
    {
     "name": "stdout",
     "output_type": "stream",
     "text": [
      "1.8.0\n"
     ]
    },
    {
     "name": "stderr",
     "output_type": "stream",
     "text": [
      "Using TensorFlow backend.\n"
     ]
    }
   ],
   "source": [
    "import os, sys\n",
    "from konlpy.tag import Mecab\n",
    "import gluonnlp as nlp\n",
    "import numpy as np\n",
    "import pandas as pd\n",
    "import tensorflow as tf\n",
    "import itertools\n",
    "import keras\n",
    "from keras.preprocessing.sequence import pad_sequences\n",
    "from tqdm import tqdm_notebook as tqdm\n",
    "from pprint import pprint\n",
    "\n",
    "import re\n",
    "from sklearn.model_selection import train_test_split\n",
    "\n",
    "print(tf.__version__)"
   ]
  },
  {
   "cell_type": "markdown",
   "metadata": {},
   "source": [
    "### Loading dataset"
   ]
  },
  {
   "cell_type": "code",
   "execution_count": 125,
   "metadata": {},
   "outputs": [
    {
     "name": "stdout",
     "output_type": "stream",
     "text": [
      "5 3\n",
      "0 0\n"
     ]
    }
   ],
   "source": [
    "ratings_train = pd.read_csv('data/ratings_train.txt', sep = '\\t')[['document', 'label']]\n",
    "ratings_test = pd.read_csv('data/ratings_test.txt', sep = '\\t')[['document', 'label']]\n",
    "\n",
    "# ratings, ratings_tst의 document column에 nan 값이 있으므로 이를 빈 문자열로 대체\n",
    "print(sum(ratings_train.document.isna()), sum(ratings_test.document.isna()))\n",
    "\n",
    "ratings_train.document[ratings_train.document.isna()] = ''\n",
    "ratings_test.document[ratings_test.document.isna()] = ''\n",
    "\n",
    "print(sum(ratings_train.document.isna()), sum(ratings_test.document.isna()))"
   ]
  },
  {
   "cell_type": "markdown",
   "metadata": {},
   "source": [
    "### Use mecab for preprocessing"
   ]
  },
  {
   "cell_type": "code",
   "execution_count": 126,
   "metadata": {},
   "outputs": [],
   "source": [
    "def make_morphs(text):\n",
    "    cleaned_text = re.sub('[^a-z|A-Z|가-힣|0-9|\\,|\\.|\\!|\\?]', ' ', text)\n",
    "    cleaned_text = re.sub('(\\!|\\?){2,}', '\\g<1>', cleaned_text)\n",
    "    cleaned_text = cleaned_text.strip()\n",
    "    base_words = mecab.morphs(cleaned_text)\n",
    "    base_words = [word for word in base_words if '.' != word and ',' not in word]\n",
    "    base_words = [word if '..' not in word else '...' for word in base_words]\n",
    "    base_words = [word if word != '!' else '!!' for word in base_words]\n",
    "    base_words = [word if word != '?' else '??' for word in base_words]\n",
    "\n",
    "    \n",
    "    sp_text = re.sub('[^ㅎㅎ|^^|ㅡㅡ|\\-\\-|~|;|♥|♡|★|ㅠ|ㅜ|ㅋ|ㅎ|ㅇ|ㅂ|ㅅ|ㅊ|ㅈ|ㄷ|ㄴ|ㅌ]', \n",
    "                     ' ', text)\n",
    "    \n",
    "    sp_text = re.sub('(ㅡ.ㅡ|-.-)', ' ㅡㅡ ', sp_text)\n",
    "    sp_text = re.sub('(-|ㅡ){2,}', ' ㅡㅡ ', sp_text)\n",
    "    sp_text = re.sub('(ㅋ|ㅎ|ㅇ|ㅂ|ㅅ|ㅊ|ㅈ|ㄷ|ㄴ|ㅌ){2,}', ' \\g<1>\\g<1> ', sp_text)\n",
    "    sp_text = re.sub('(♥|♡)+', ' ♥♥ ', sp_text)\n",
    "    sp_text = re.sub('(★|;|~)+', ' \\g<1>\\g<1> ', sp_text)\n",
    "    sp_text = re.sub('\\^+', ' ^^ ', sp_text)\n",
    "    sp_text = re.sub('[ㅠ|ㅜ]+', ' ㅠㅠ ', sp_text)\n",
    "    sp_text = re.sub('\\s+', ' ', sp_text)\n",
    "    sp_text = sp_text.strip()\n",
    "    \n",
    "    sp_words = sp_text.split(' ')\n",
    "    sp_words = [word for word in sp_words if 'ㅡ' != word]\n",
    "    \n",
    "    result_text = base_words + sp_words if not '' in sp_words else base_words\n",
    "    if not result_text:\n",
    "        return ''\n",
    "    \n",
    "#     result_word = [word for word in result_word if len(word) > 1]\n",
    "    result_words = '+'.join(result_text)\n",
    "    return result_words"
   ]
  },
  {
   "cell_type": "code",
   "execution_count": 127,
   "metadata": {},
   "outputs": [
    {
     "name": "stdout",
     "output_type": "stream",
     "text": [
      "Make train morphs......\n",
      "Make test morphs......\n",
      "CPU times: user 40.2 s, sys: 135 ms, total: 40.3 s\n",
      "Wall time: 40.3 s\n"
     ]
    }
   ],
   "source": [
    "%%time\n",
    "\n",
    "mecab = Mecab()\n",
    "\n",
    "# train\n",
    "print('Make train morphs......')\n",
    "ratings_train['morphs'] = ratings_train['document'].apply(make_morphs)\n",
    "\n",
    "# test\n",
    "print('Make test morphs......')\n",
    "ratings_test['morphs'] = ratings_test['document'].apply(make_morphs)"
   ]
  },
  {
   "cell_type": "code",
   "execution_count": 128,
   "metadata": {},
   "outputs": [],
   "source": [
    "ratings_train.to_csv('data/ratings_train_mecab_spword.txt', sep='\\t', index=False)\n",
    "ratings_test.to_csv('data/ratings_test_mecab_spword.txt', sep='\\t', index=False)"
   ]
  },
  {
   "cell_type": "markdown",
   "metadata": {},
   "source": [
    "### Reload data"
   ]
  },
  {
   "cell_type": "code",
   "execution_count": 2,
   "metadata": {},
   "outputs": [
    {
     "name": "stdout",
     "output_type": "stream",
     "text": [
      "167 56\n",
      "0 0\n"
     ]
    }
   ],
   "source": [
    "ratings = pd.read_csv('data/ratings_train_mecab_spword.txt', sep = '\\t')[['morphs', 'label']]\n",
    "ratings_test = pd.read_csv('data/ratings_test_mecab_spword.txt', sep = '\\t')[['morphs', 'label']]\n",
    "\n",
    "# ratings, ratings_tst의 document column에 nan 값이 있으므로 이를 빈 문자열로 대체\n",
    "print(sum(ratings.morphs.isna()), sum(ratings_test.morphs.isna()))\n",
    "\n",
    "ratings.morphs[ratings.morphs.isna()] = ''\n",
    "ratings_test.morphs[ratings_test.morphs.isna()] = ''\n",
    "\n",
    "print(sum(ratings.morphs.isna()), sum(ratings_test.morphs.isna()))"
   ]
  },
  {
   "cell_type": "markdown",
   "metadata": {},
   "source": [
    "### Preprocessing dataset"
   ]
  },
  {
   "cell_type": "markdown",
   "metadata": {},
   "source": [
    "##### Find best random seed trought rasidual and varience"
   ]
  },
  {
   "cell_type": "code",
   "execution_count": 132,
   "metadata": {},
   "outputs": [],
   "source": [
    "def split_word(text):\n",
    "    return [word for word in text.split('+')]"
   ]
  },
  {
   "cell_type": "code",
   "execution_count": null,
   "metadata": {
    "scrolled": true
   },
   "outputs": [
    {
     "name": "stdout",
     "output_type": "stream",
     "text": [
      "Find best seed......\n"
     ]
    },
    {
     "data": {
      "application/vnd.jupyter.widget-view+json": {
       "model_id": "b7881f0d5ec74bbca48b2096e5f8923e",
       "version_major": 2,
       "version_minor": 0
      },
      "text/plain": [
       "HBox(children=(IntProgress(value=0, max=1000), HTML(value='')))"
      ]
     },
     "metadata": {},
     "output_type": "display_data"
    },
    {
     "name": "stdout",
     "output_type": "stream",
     "text": [
      "seed: 0\n",
      "242429\n",
      "475470.9748563272 470837.2030298952\n",
      "seed: 1\n",
      "238699\n",
      "474388.50373664836 475138.8543619756\n",
      "seed: 76\n",
      "238327\n",
      "474760.9501186432 473640.1993358826\n",
      "seed: 97\n",
      "238175\n",
      "474743.9294321713 473710.0265871386\n",
      "seed: 321\n",
      "237533\n",
      "474788.4582905639 473523.6408033082\n",
      "seed: 349\n",
      "236630\n",
      "474491.4691436772 474693.0691265234\n",
      "seed: 407\n",
      "236418\n",
      "475148.4852283042 472077.4220420267\n"
     ]
    }
   ],
   "source": [
    "print('Find best seed......')\n",
    "\n",
    "min_seed = 0\n",
    "min_residual = 100000000\n",
    "for i in tqdm(range(1000)):\n",
    "    x_data = ratings.morphs.apply(split_word).tolist()\n",
    "    y_data = ratings.label.tolist()\n",
    "\n",
    "    x_train_word, x_val_word, y_train, y_val = train_test_split(x_data, y_data,\n",
    "                                                                test_size=0.2,\n",
    "                                                                random_state=i,\n",
    "                                                                stratify=y_data)\n",
    "    # print(len(y_train), sum(y_train), len(y_val), sum(y_val))\n",
    "\n",
    "    word_table = list(set([word for words in x_data for word in words]))\n",
    "    word_table = {word:0 for word in word_table}\n",
    "\n",
    "    train_counter = nlp.data.count_tokens(itertools.chain.from_iterable([c for c in x_train_word]))\n",
    "    train_table = word_table.copy()\n",
    "    train_table.update(train_counter)\n",
    "\n",
    "    val_counter = nlp.data.count_tokens(itertools.chain.from_iterable([c for c in x_val_word]))\n",
    "    val_table = word_table.copy()\n",
    "    val_table.update(val_counter)\n",
    "\n",
    "    train_cnt = np.array(list(train_table.values()))\n",
    "    val_cnt = np.array(list(val_table.values())) * 4\n",
    "  \n",
    "    residual = np.abs(train_cnt-val_cnt).sum()\n",
    "    if residual < min_residual:\n",
    "        min_residual = residual\n",
    "        min_seed = i\n",
    "        print('seed:', i)\n",
    "        print(min_residual)\n",
    "        print(np.var(train_cnt), np.var(val_cnt))"
   ]
  },
  {
   "cell_type": "markdown",
   "metadata": {},
   "source": [
    "### Make training data "
   ]
  },
  {
   "cell_type": "code",
   "execution_count": 3,
   "metadata": {},
   "outputs": [],
   "source": [
    "def split_word(text):\n",
    "    return [word for word in text.split('+')]"
   ]
  },
  {
   "cell_type": "code",
   "execution_count": 4,
   "metadata": {
    "scrolled": true
   },
   "outputs": [
    {
     "name": "stdout",
     "output_type": "stream",
     "text": [
      "Make train, val data......\n"
     ]
    }
   ],
   "source": [
    "print('Make train, val data......')\n",
    "\n",
    "x_data = ratings.morphs.apply(split_word).tolist()\n",
    "y_data = ratings.label.tolist()\n",
    "\n",
    "x_train_word, x_val_word, y_train, y_val = train_test_split(x_data, y_data,\n",
    "                                                            test_size=0.2,\n",
    "                                                            random_state=349,\n",
    "                                                            stratify=y_data)\n",
    "\n",
    "y_train = np.asarray(y_train)\n",
    "y_val = np.asarray(y_val)"
   ]
  },
  {
   "cell_type": "markdown",
   "metadata": {},
   "source": [
    "### Preprocessing dataset"
   ]
  },
  {
   "cell_type": "markdown",
   "metadata": {},
   "source": [
    "#### Building vocabulary and connecting vocabulary with fasttext embedding\n",
    "https://gluon-nlp.mxnet.io/examples/word_embedding/word_embedding.html"
   ]
  },
  {
   "cell_type": "code",
   "execution_count": 5,
   "metadata": {},
   "outputs": [],
   "source": [
    "# training dataset 기반으로 vocab 생성\n",
    "counter = nlp.data.count_tokens(itertools.chain.from_iterable([c for c in x_train_word]))\n",
    "vocab = nlp.Vocab(counter,bos_token=None, eos_token=None, min_freq=15)"
   ]
  },
  {
   "cell_type": "code",
   "execution_count": 6,
   "metadata": {},
   "outputs": [],
   "source": [
    "# Loading fasttext embedding \n",
    "fasttext_simple = nlp.embedding.create('fasttext', source='wiki.ko')\n",
    "\n",
    "# vocab에 embedding 연결\n",
    "vocab.set_embedding(fasttext_simple)"
   ]
  },
  {
   "cell_type": "code",
   "execution_count": 129,
   "metadata": {},
   "outputs": [
    {
     "name": "stdout",
     "output_type": "stream",
     "text": [
      "CPU times: user 3.97 s, sys: 211 ms, total: 4.18 s\n",
      "Wall time: 4.22 s\n"
     ]
    }
   ],
   "source": [
    "%%time\n",
    "# final preprocessing\n",
    "\n",
    "x_train = list(map(lambda sen : [vocab.token_to_idx[token] for token in sen], x_train_word))\n",
    "x_train = pad_sequences(sequences = x_train, maxlen = 30, padding = 'post', value = 1.)\n",
    "\n",
    "x_val = list(map(lambda sen : [vocab.token_to_idx[token] for token in sen], x_val_word))\n",
    "x_val = pad_sequences(sequences = x_val, maxlen = 30, padding = 'post', value = 1.)"
   ]
  },
  {
   "cell_type": "markdown",
   "metadata": {},
   "source": [
    "### Define MorphConv class"
   ]
  },
  {
   "cell_type": "code",
   "execution_count": 130,
   "metadata": {},
   "outputs": [],
   "source": [
    "class MorphConv:\n",
    "    def __init__(self, X, y, n_of_classes, embedding):\n",
    "        \n",
    "        with tf.variable_scope('input_layer'):\n",
    "            self.__X = X\n",
    "            self.__y = y\n",
    "            self.is_training = tf.placeholder(dtype = tf.bool)\n",
    "        \n",
    "        with tf.variable_scope('embedding_layer'):\n",
    "            static_embed = tf.get_variable(name = 'static', initializer = embedding,\n",
    "                                           trainable = False)\n",
    "            non_static_embed = tf.get_variable(name = 'non_static', initializer = embedding,\n",
    "                                               trainable = True)\n",
    "            static_batch = tf.nn.embedding_lookup(params = static_embed, ids = self.__X)\n",
    "            non_static_batch = tf.nn.embedding_lookup(params = non_static_embed, ids = self.__X)\n",
    "            \n",
    "        with tf.variable_scope('convoluion_layer'):\n",
    "            with tf.variable_scope('tri_gram'):\n",
    "                \n",
    "                tri_gram = keras.layers.Conv1D(filters = 100, kernel_size = 3,\n",
    "                                               activation = keras.activations.relu,\n",
    "                                               kernel_initializer = 'he_uniform', padding = 'valid')\n",
    "                static_3 = tri_gram(static_batch)\n",
    "                non_static_3 = tri_gram(non_static_batch)\n",
    "            \n",
    "            with tf.variable_scope('tetra_gram'):\n",
    "                tetra_gram = keras.layers.Conv1D(filters = 100, kernel_size = 4,\n",
    "                                                 activation = keras.activations.relu,\n",
    "                                                 kernel_initializer = 'he_uniform', padding = 'valid')\n",
    "                \n",
    "                static_4 = tetra_gram(static_batch)\n",
    "                non_static_4 = tetra_gram(non_static_batch)\n",
    "            \n",
    "            with tf.variable_scope('penta_gram'):\n",
    "                penta_gram = keras.layers.Conv1D(filters = 100, kernel_size = 5,\n",
    "                                                 activation = keras.activations.relu,\n",
    "                                                 kernel_initializer = 'he_uniform', padding = 'valid')\n",
    "                \n",
    "                static_5 = penta_gram(static_batch)\n",
    "                non_static_5 = penta_gram(non_static_batch)\n",
    "\n",
    "            fmap_3 = tf.reduce_max(static_3 + non_static_3, axis = 1)\n",
    "            fmap_4 = tf.reduce_max(static_4 + non_static_4, axis = 1)\n",
    "            fmap_5 = tf.reduce_max(static_5 + non_static_5, axis = 1)\n",
    "            \n",
    "        with tf.variable_scope('output_layer'):\n",
    "            flattened = tf.concat([fmap_3, fmap_4, fmap_5], axis = -1)\n",
    "            score = keras.layers.Dense(units = n_of_classes,\n",
    "                                       kernel_regularizer = keras.regularizers.l2(.7))(flattened)\n",
    "            \n",
    "            self.__score = keras.layers.Dropout(rate = .5)(score, training = self.is_training)\n",
    "\n",
    "        with tf.variable_scope('loss'):\n",
    "            ce_loss = tf.losses.sparse_softmax_cross_entropy(labels = self.__y, logits = self.__score)\n",
    "            reg_term = tf.reduce_sum(tf.get_collection(tf.GraphKeys.REGULARIZATION_LOSSES))\n",
    "            self.total_loss = ce_loss + reg_term\n",
    "        \n",
    "        with tf.variable_scope('prediction'):\n",
    "            self.prediction = tf.argmax(self.__score, axis = -1)\n",
    "        \n",
    "    # predict instance method for small dataset\n",
    "    def predict(self, sess, x_data, is_training = False):\n",
    "        feed_prediction = {self.__X : x_data, self.is_training : is_training}\n",
    "        return sess.run(self.prediction, feed_dict = feed_prediction)"
   ]
  },
  {
   "cell_type": "markdown",
   "metadata": {},
   "source": [
    "### Create a model of MorphConv"
   ]
  },
  {
   "cell_type": "code",
   "execution_count": 157,
   "metadata": {},
   "outputs": [
    {
     "name": "stdout",
     "output_type": "stream",
     "text": [
      "1200 300\n"
     ]
    }
   ],
   "source": [
    "# hyper-parameter\n",
    "lr = .001\n",
    "epochs = 30\n",
    "batch_size = 100\n",
    "train_step = int(x_train.shape[0] / batch_size)\n",
    "val_step = int(x_val.shape[0] / batch_size)\n",
    "print(train_step, val_step)"
   ]
  },
  {
   "cell_type": "code",
   "execution_count": 158,
   "metadata": {},
   "outputs": [],
   "source": [
    "# train\n",
    "tr_dataset = tf.data.Dataset.from_tensor_slices((x_train, y_train))\n",
    "tr_dataset = tr_dataset.shuffle(buffer_size = 1000000)\n",
    "tr_dataset = tr_dataset.batch(batch_size = batch_size)\n",
    "tr_iterator = tr_dataset.make_initializable_iterator()"
   ]
  },
  {
   "cell_type": "code",
   "execution_count": 159,
   "metadata": {},
   "outputs": [],
   "source": [
    "# val\n",
    "val_dataset = tf.data.Dataset.from_tensor_slices((x_val, y_val))\n",
    "val_dataset = val_dataset.batch(batch_size = batch_size)\n",
    "val_iterator = val_dataset.make_initializable_iterator()"
   ]
  },
  {
   "cell_type": "code",
   "execution_count": 160,
   "metadata": {},
   "outputs": [],
   "source": [
    "# anonymous iterator\n",
    "handle = tf.placeholder(dtype = tf.string)\n",
    "iterator = tf.data.Iterator.from_string_handle(string_handle = handle,\n",
    "                                               output_types = tr_iterator.output_types,\n",
    "                                               output_shapes = tr_iterator.output_shapes)\n",
    "x_data, y_data = iterator.get_next()"
   ]
  },
  {
   "cell_type": "code",
   "execution_count": 161,
   "metadata": {},
   "outputs": [],
   "source": [
    "morph_conv = MorphConv(X = x_data, y = y_data, n_of_classes = 2,\n",
    "                       embedding = vocab.embedding.idx_to_vec.asnumpy())"
   ]
  },
  {
   "cell_type": "code",
   "execution_count": 162,
   "metadata": {},
   "outputs": [],
   "source": [
    "# create training op\n",
    "opt = tf.train.AdamOptimizer(learning_rate = lr)\n",
    "training_op = opt.minimize(loss = morph_conv.total_loss)"
   ]
  },
  {
   "cell_type": "code",
   "execution_count": 163,
   "metadata": {},
   "outputs": [
    {
     "data": {
      "text/plain": [
       "0"
      ]
     },
     "execution_count": 163,
     "metadata": {},
     "output_type": "execute_result"
    }
   ],
   "source": [
    "saver = tf.train.Saver(max_to_keep=30)\n",
    "save_dir = 'checkpoints/'\n",
    "os.makedirs(save_dir, exist_ok=True)\n",
    "os.system('rm -rf '+save_dir+'*ckpt*')"
   ]
  },
  {
   "cell_type": "markdown",
   "metadata": {},
   "source": [
    "### Training"
   ]
  },
  {
   "cell_type": "code",
   "execution_count": 164,
   "metadata": {},
   "outputs": [],
   "source": [
    "sess_config = tf.ConfigProto(gpu_options=tf.GPUOptions(allow_growth=True))\n",
    "# sess_config = tf.ConfigProto(device_count = {'GPU': 1})\n",
    "sess = tf.Session(config = sess_config)\n",
    "sess.run(tf.global_variables_initializer())\n",
    "tr_handle, val_handle = sess.run(fetches = [tr_iterator.string_handle(), val_iterator.string_handle()])"
   ]
  },
  {
   "cell_type": "code",
   "execution_count": 165,
   "metadata": {},
   "outputs": [
    {
     "data": {
      "application/vnd.jupyter.widget-view+json": {
       "model_id": "47d6ca39e4f345dc82a99c6f75d6abc3",
       "version_major": 2,
       "version_minor": 0
      },
      "text/plain": [
       "HBox(children=(IntProgress(value=0, max=30), HTML(value='')))"
      ]
     },
     "metadata": {},
     "output_type": "display_data"
    },
    {
     "name": "stdout",
     "output_type": "stream",
     "text": [
      "epoch :   1, train_loss : 0.528, val_loss : 0.364\n",
      "epoch :   2, train_loss : 0.425, val_loss : 0.337\n",
      "epoch :   3, train_loss : 0.392, val_loss : 0.331\n",
      "epoch :   4, train_loss : 0.366, val_loss : 0.341\n",
      "epoch :   5, train_loss : 0.338, val_loss : 0.355\n",
      "epoch :   6, train_loss : 0.308, val_loss : 0.347\n",
      "epoch :   7, train_loss : 0.285, val_loss : 0.393\n",
      "epoch :   8, train_loss : 0.262, val_loss : 0.409\n",
      "epoch :   9, train_loss : 0.245, val_loss : 0.457\n",
      "epoch :  10, train_loss : 0.234, val_loss : 0.560\n",
      "epoch :  11, train_loss : 0.222, val_loss : 0.535\n",
      "epoch :  12, train_loss : 0.218, val_loss : 0.562\n",
      "epoch :  13, train_loss : 0.213, val_loss : 0.673\n",
      "epoch :  14, train_loss : 0.212, val_loss : 0.615\n",
      "epoch :  15, train_loss : 0.204, val_loss : 0.660\n",
      "epoch :  16, train_loss : 0.207, val_loss : 0.685\n",
      "epoch :  17, train_loss : 0.203, val_loss : 0.727\n",
      "epoch :  18, train_loss : 0.199, val_loss : 0.785\n",
      "epoch :  19, train_loss : 0.198, val_loss : 0.813\n",
      "epoch :  20, train_loss : 0.199, val_loss : 0.808\n",
      "epoch :  21, train_loss : 0.198, val_loss : 0.828\n",
      "epoch :  22, train_loss : 0.198, val_loss : 0.860\n",
      "epoch :  23, train_loss : 0.196, val_loss : 0.833\n",
      "epoch :  24, train_loss : 0.197, val_loss : 0.856\n",
      "epoch :  25, train_loss : 0.195, val_loss : 0.932\n",
      "epoch :  26, train_loss : 0.193, val_loss : 0.929\n",
      "epoch :  27, train_loss : 0.194, val_loss : 0.922\n",
      "epoch :  28, train_loss : 0.192, val_loss : 0.954\n",
      "epoch :  29, train_loss : 0.197, val_loss : 0.986\n",
      "epoch :  30, train_loss : 0.191, val_loss : 0.964\n",
      "CPU times: user 5min 45s, sys: 1min 20s, total: 7min 5s\n",
      "Wall time: 4min 24s\n"
     ]
    }
   ],
   "source": [
    "%%time\n",
    "\n",
    "train_loss_hist = []\n",
    "val_loss_hist = []\n",
    "\n",
    "for epoch in tqdm(range(epochs)):\n",
    "\n",
    "    avg_train_loss = 0\n",
    "    avg_val_loss = 0\n",
    "    tr_step = 0\n",
    "    val_step = 0\n",
    "\n",
    "    # for mini-batch training\n",
    "    sess.run(tr_iterator.initializer)    \n",
    "    try:\n",
    "        \n",
    "        while True:\n",
    "            _, train_loss = sess.run(fetches = [training_op, morph_conv.total_loss],\n",
    "                                             feed_dict = {handle : tr_handle, morph_conv.is_training : True})\n",
    "            avg_train_loss += train_loss\n",
    "            tr_step += 1\n",
    "\n",
    "    except tf.errors.OutOfRangeError:\n",
    "        pass\n",
    "\n",
    "    # for validation\n",
    "    sess.run(val_iterator.initializer)\n",
    "    try:\n",
    "        while True:\n",
    "            val_loss = sess.run(fetches = morph_conv.total_loss,\n",
    "                                feed_dict = {handle : val_handle, morph_conv.is_training : False})\n",
    "            avg_val_loss += val_loss\n",
    "            val_step += 1\n",
    "    \n",
    "    except tf.errors.OutOfRangeError:\n",
    "        pass\n",
    "\n",
    "    avg_train_loss /= tr_step\n",
    "    avg_val_loss /= val_step\n",
    "    train_loss_hist.append(avg_train_loss)\n",
    "    val_loss_hist.append(avg_val_loss)\n",
    "    \n",
    "    saver.save(sess=sess, \n",
    "               save_path=save_dir+str(epoch+1).zfill(3)+'_'+str(int(avg_train_loss*1000)).zfill(4)+'_'+str(int(avg_val_loss*1000)).zfill(4)+'.ckpt')\n",
    "    \n",
    "    print('epoch : {:3}, train_loss : {:.3f}, val_loss : {:.3f}'.format(epoch + 1, avg_train_loss, avg_val_loss))\n",
    "    \n",
    "#     threshold = 5\n",
    "#     if epoch >= 5:\n",
    "#         print([prev_val_loss < avg_val_loss for prev_val_loss \n",
    "#                 in val_loss_hist[epoch-threshold:epoch]])\n",
    "#         if all([prev_val_loss < avg_val_loss for prev_val_loss \n",
    "#                 in val_loss_hist[epoch-threshold:epoch]]):\n",
    "#             break\n"
   ]
  },
  {
   "cell_type": "code",
   "execution_count": 156,
   "metadata": {},
   "outputs": [],
   "source": [
    "tf.reset_default_graph()"
   ]
  },
  {
   "cell_type": "markdown",
   "metadata": {},
   "source": [
    "### Test"
   ]
  },
  {
   "cell_type": "code",
   "execution_count": 177,
   "metadata": {},
   "outputs": [
    {
     "name": "stdout",
     "output_type": "stream",
     "text": [
      "INFO:tensorflow:Restoring parameters from checkpoints/003_0391_0331.ckpt\n"
     ]
    },
    {
     "name": "stderr",
     "output_type": "stream",
     "text": [
      "INFO:tensorflow:Restoring parameters from checkpoints/003_0391_0331.ckpt\n"
     ]
    }
   ],
   "source": [
    "saver.restore(sess, save_dir+'003_0391_0331.ckpt')"
   ]
  },
  {
   "cell_type": "code",
   "execution_count": 178,
   "metadata": {},
   "outputs": [
    {
     "name": "stdout",
     "output_type": "stream",
     "text": [
      "Make test data......\n"
     ]
    }
   ],
   "source": [
    "# Make test data\n",
    "print('Make test data......')\n",
    "x_test_word = ratings_test.morphs.apply(split_word).tolist()\n",
    "\n",
    "x_test = list(map(lambda sen : [vocab.token_to_idx[token] for token in sen], x_test_word))\n",
    "x_test = pad_sequences(sequences = x_test, maxlen = 30, padding = 'post', value = 1.)\n",
    "\n",
    "y_test = ratings_test.label.tolist()\n",
    "y_test = np.asarray(y_test)"
   ]
  },
  {
   "cell_type": "code",
   "execution_count": 179,
   "metadata": {},
   "outputs": [],
   "source": [
    "test_dataset = tf.data.Dataset.from_tensor_slices((x_test, y_test))\n",
    "test_dataset = test_dataset.batch(batch_size = batch_size)\n",
    "test_iterator = test_dataset.make_initializable_iterator()"
   ]
  },
  {
   "cell_type": "code",
   "execution_count": 180,
   "metadata": {},
   "outputs": [],
   "source": [
    "test_handle = sess.run(test_iterator.string_handle())"
   ]
  },
  {
   "cell_type": "code",
   "execution_count": 181,
   "metadata": {},
   "outputs": [],
   "source": [
    "y_test_hat = np.array([])\n",
    "\n",
    "sess.run(test_iterator.initializer)\n",
    "\n",
    "try:\n",
    "    while True:\n",
    "        y_test_tmp = sess.run(morph_conv.prediction,\n",
    "                            feed_dict = {handle : test_handle,\n",
    "                                         morph_conv.is_training : False})\n",
    "        y_test_hat= np.append(y_test_hat, y_test_tmp)\n",
    "\n",
    "except tf.errors.OutOfRangeError:\n",
    "    pass"
   ]
  },
  {
   "cell_type": "code",
   "execution_count": 182,
   "metadata": {},
   "outputs": [
    {
     "name": "stdout",
     "output_type": "stream",
     "text": [
      "test acc : 85.17%\n"
     ]
    }
   ],
   "source": [
    "print('test acc : {:.2%}'.format(np.mean(y_test_hat == np.array(y_test))))"
   ]
  },
  {
   "cell_type": "code",
   "execution_count": null,
   "metadata": {},
   "outputs": [],
   "source": []
  }
 ],
 "metadata": {
  "kernelspec": {
   "display_name": "Python 3",
   "language": "python",
   "name": "python3"
  },
  "language_info": {
   "codemirror_mode": {
    "name": "ipython",
    "version": 3
   },
   "file_extension": ".py",
   "mimetype": "text/x-python",
   "name": "python",
   "nbconvert_exporter": "python",
   "pygments_lexer": "ipython3",
   "version": "3.5.2"
  }
 },
 "nbformat": 4,
 "nbformat_minor": 2
}
